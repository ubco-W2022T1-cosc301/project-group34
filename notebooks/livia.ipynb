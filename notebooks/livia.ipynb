{
 "cells": [
  {
   "cell_type": "markdown",
   "metadata": {},
   "source": [
    "# Livia Zalilla"
   ]
  },
  {
   "cell_type": "markdown",
   "metadata": {},
   "source": [
    "## Research question/interests\n",
    "\n",
    "We are interested in exploring the global production of marine fisheries and its effects on climate change through overexploitation of fish stocks within the past 50 years. We will compare the trends of fishing production levels in different countries and regions. Some questions we intend to investigate are: \n",
    "- How will commercial fishing be able to meet the demands of fish stock from the increasing global population? \n",
    "- How will the results of overfishing impact our wild fish stock over the next decade? \n",
    "- What contributions will aquaculture make in sustainable practices of fishing?   "
   ]
  },
  {
   "cell_type": "code",
   "execution_count": null,
   "metadata": {},
   "outputs": [],
   "source": [
    "## Importing the dataset\n",
    "\n",
    "import numpy as np\n",
    "import pandas as pd\n",
    "\n",
    "aquaculture = pd.read_csv(\"https://raw.githubusercontent.com/ubco-W2022T1-cosc301/project-group34/main/data/raw/capture-fisheries-vs-aquaculture.csv\", sep=\",\")\n",
    "capturedVsAquaculture= pd.read_csv(\"https://raw.githubusercontent.com/ubco-W2022T1-cosc301/project-group34/main/data/raw/capture-fisheries-vs-aquaculture.csv\", sep=\",\")\n",
    "captured = pd.read_csv(\"https://raw.githubusercontent.com/ubco-W2022T1-cosc301/project-group34/main/data/raw/capture-fishery-production.csv\", sep=\",\")\n",
    "seafoodConsumptionpercapita = pd.read_csv(\"https://raw.githubusercontent.com/ubco-W2022T1-cosc301/project-group34/main/data/raw/fish-and-seafood-consumption-per-capita.csv\", sep=\",\")\n",
    "sustainableFishStocks = pd.read_csv(\"https://raw.githubusercontent.com/ubco-W2022T1-cosc301/project-group34/main/data/raw/fish-stocks-within-sustainable-levels.csv\", sep=\",\")\n",
    "globalFisheryBySector = pd.read_csv(\"https://raw.githubusercontent.com/ubco-W2022T1-cosc301/project-group34/main/data/raw/global-fishery-catch-by-sector.csv\", sep=\",\")\n",
    "seafoodProduction = pd.read_csv(\"https://raw.githubusercontent.com/ubco-W2022T1-cosc301/project-group34/main/data/raw/seafood-and-fish-production-thousand-tonnes.csv\", sep=\",\")\n",
    "\n",
    "captured.head()"
   ]
  }
 ],
 "metadata": {
  "kernelspec": {
   "display_name": "Python 2.7.10 64-bit",
   "language": "python",
   "name": "python3"
  },
  "language_info": {
   "name": "python",
   "version": "2.7.10"
  },
  "vscode": {
   "interpreter": {
    "hash": "beb4f305451b4835b36a63cb1c75e625a7251cf8d76b65be2f5856eee68cb551"
   }
  }
 },
 "nbformat": 4,
 "nbformat_minor": 4
}
