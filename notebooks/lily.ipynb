{
 "cells": [
  {
   "cell_type": "markdown",
   "metadata": {},
   "source": [
    "# Lily Yao"
   ]
  },
  {
   "cell_type": "markdown",
   "metadata": {},
   "source": [
    "## Research question/interests\n",
    "\n",
    "We are planning on analyzing the effects the growing demand for fish and seafood has on climate change. The ever growing demand resulted in growing development for both global fish and seafood production or wild capturing to meet this demand. But how does this affect climate change? With the ever growing demand will the wild fish stock be able to keep up with overfishing?   \n",
    "\n",
    "Additionally, we would like to delve further into how technology can be used to aid in the effects of overfishing via aquaculture and seafood farming. Lastly, we would like to look into the extent of each country/region's overfishing trends and compare it to the their production trends."
   ]
  },
  {
   "cell_type": "code",
   "execution_count": null,
   "metadata": {},
   "outputs": [],
   "source": [
    "## Importing the dataset\n",
    "\n",
    "import numpy as np\n",
    "import pandas as pd\n",
    "\n",
    "aquaculture = pd.read_csv(\"https://raw.githubusercontent.com/ubco-W2022T1-cosc301/project-group34/main/data/raw/capture-fisheries-vs-aquaculture.csv\", sep=\",\")\n",
    "capturedVsAquaculture= pd.read_csv(\"https://raw.githubusercontent.com/ubco-W2022T1-cosc301/project-group34/main/data/raw/capture-fisheries-vs-aquaculture.csv\", sep=\",\")\n",
    "captured = pd.read_csv(\"https://raw.githubusercontent.com/ubco-W2022T1-cosc301/project-group34/main/data/raw/capture-fishery-production.csv\", sep=\",\")\n",
    "seafoodConsumptionpercapita = pd.read_csv(\"https://raw.githubusercontent.com/ubco-W2022T1-cosc301/project-group34/main/data/raw/fish-and-seafood-consumption-per-capita.csv\", sep=\",\")\n",
    "sustainableFishStocks = pd.read_csv(\"https://raw.githubusercontent.com/ubco-W2022T1-cosc301/project-group34/main/data/raw/fish-stocks-within-sustainable-levels.csv\", sep=\",\")\n",
    "globalFisheryBySector = pd.read_csv(\"https://raw.githubusercontent.com/ubco-W2022T1-cosc301/project-group34/main/data/raw/global-fishery-catch-by-sector.csv\", sep=\",\")\n",
    "seafoodProduction = pd.read_csv(\"https://raw.githubusercontent.com/ubco-W2022T1-cosc301/project-group34/main/data/raw/seafood-and-fish-production-thousand-tonnes.csv\", sep=\",\")\n",
    "\n",
    "captured.head()\n"
   ]
  }
 ],
 "metadata": {},
 "nbformat": 4,
 "nbformat_minor": 2
}
